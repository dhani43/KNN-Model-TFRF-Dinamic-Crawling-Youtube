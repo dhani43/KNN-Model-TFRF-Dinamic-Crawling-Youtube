{
  "nbformat": 4,
  "nbformat_minor": 0,
  "metadata": {
    "colab": {
      "provenance": [],
      "authorship_tag": "ABX9TyMOpXARgVD0F6h9oKS5zHD4",
      "include_colab_link": true
    },
    "kernelspec": {
      "name": "python3",
      "display_name": "Python 3"
    },
    "language_info": {
      "name": "python"
    }
  },
  "cells": [
    {
      "cell_type": "markdown",
      "metadata": {
        "id": "view-in-github",
        "colab_type": "text"
      },
      "source": [
        "<a href=\"https://colab.research.google.com/github/dhani43/KNN-Model-TFRF-Dinamic-Crawling-Youtube/blob/main/Pembobotan_Kata_TF_RF.ipynb\" target=\"_parent\"><img src=\"https://colab.research.google.com/assets/colab-badge.svg\" alt=\"Open In Colab\"/></a>"
      ]
    },
    {
      "cell_type": "markdown",
      "metadata": {
        "id": "uMFFTlnzPrJZ"
      },
      "source": [
        "**1. INSTALL REQUIREMENT**"
      ]
    },
    {
      "cell_type": "code",
      "execution_count": null,
      "metadata": {
        "id": "yPFPDXrPzN5v"
      },
      "outputs": [],
      "source": [
        "!pip install pandas numpy scikit-learn openpyxl nltk google-api-python-client Sastrawi"
      ]
    },
    {
      "cell_type": "markdown",
      "metadata": {
        "id": "IwL36FB9QaLC"
      },
      "source": [
        "**2. IMPORT REQUIREMENT**"
      ]
    },
    {
      "cell_type": "code",
      "source": [
        "import pandas as pd\n",
        "import numpy as np\n",
        "import re\n",
        "import nltk\n",
        "import pickle\n",
        "import os\n",
        "import time\n",
        "from datetime import datetime\n",
        "from nltk.tokenize import word_tokenize\n",
        "from nltk.corpus import stopwords\n",
        "from Sastrawi.Stemmer.StemmerFactory import StemmerFactory\n",
        "from sklearn.model_selection import train_test_split\n",
        "from sklearn.feature_extraction.text import TfidfTransformer, CountVectorizer\n",
        "from sklearn.preprocessing import LabelEncoder\n",
        "from sklearn.neighbors import KNeighborsClassifier\n",
        "from sklearn.metrics import accuracy_score, classification_report\n",
        "from google.colab import files, drive\n",
        "from googleapiclient.discovery import build"
      ],
      "metadata": {
        "id": "7WJsKzRVqNKD"
      },
      "execution_count": null,
      "outputs": []
    },
    {
      "cell_type": "markdown",
      "metadata": {
        "id": "rIQCMUVqVn6z"
      },
      "source": [
        "**3. PEMBOBOTAN KATA (TF-RF)**"
      ]
    },
    {
      "cell_type": "code",
      "execution_count": null,
      "metadata": {
        "id": "4Q43Z940VxqO"
      },
      "outputs": [],
      "source": [
        "# TF-RF Vectorization\n",
        "vectorizer = CountVectorizer(ngram_range=(1,2))\n",
        "X_counts = vectorizer.fit_transform(df['final_text'])\n",
        "tf_transformer = TfidfTransformer(use_idf=False).fit(X_counts)\n",
        "X_tf = tf_transformer.transform(X_counts)\n",
        "df_counts = np.sum(X_counts.toarray() > 0, axis=0)\n",
        "n_docs = X_counts.shape[0]\n",
        "b = df_counts\n",
        "c = n_docs - b\n",
        "rf = np.log(2 + b / np.maximum(1, c))\n",
        "rf = rf.reshape(1, -1)\n",
        "X_tfrf = X_tf.multiply(rf)\n",
        "\n",
        "pd.set_option('display.max_columns', None)\n",
        "pd.set_option('display.expand_frame_repr', True)\n",
        "# Mendapatkan daftar fitur (kata/phrase) dari vectorizer\n",
        "feature_names = vectorizer.get_feature_names_out()\n",
        "# Mengonversi hasil TF-RF (sparse matrix) ke bentuk array\n",
        "tfrf_array = X_tfrf.toarray()\n",
        "df_tfrf = pd.DataFrame(tfrf_array, columns=feature_names)\n",
        "print(df_tfrf)"
      ]
    }
  ]
}