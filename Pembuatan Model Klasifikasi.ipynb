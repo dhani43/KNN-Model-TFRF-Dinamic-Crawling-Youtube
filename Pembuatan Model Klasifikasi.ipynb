{
  "nbformat": 4,
  "nbformat_minor": 0,
  "metadata": {
    "colab": {
      "provenance": [],
      "authorship_tag": "ABX9TyPPY8L4/oMPFdtmbPN4lseg",
      "include_colab_link": true
    },
    "kernelspec": {
      "name": "python3",
      "display_name": "Python 3"
    },
    "language_info": {
      "name": "python"
    }
  },
  "cells": [
    {
      "cell_type": "markdown",
      "metadata": {
        "id": "view-in-github",
        "colab_type": "text"
      },
      "source": [
        "<a href=\"https://colab.research.google.com/github/dhani43/KNN-Model-TFRF-Dinamic-Crawling-Youtube/blob/main/Klasifikasi_KNN_%26_Evaluasi_Model.ipynb\" target=\"_parent\"><img src=\"https://colab.research.google.com/assets/colab-badge.svg\" alt=\"Open In Colab\"/></a>"
      ]
    },
    {
      "cell_type": "markdown",
      "metadata": {
        "id": "uMFFTlnzPrJZ"
      },
      "source": [
        "**1. INSTALL REQUIREMENT**"
      ]
    },
    {
      "cell_type": "code",
      "execution_count": null,
      "metadata": {
        "id": "yPFPDXrPzN5v"
      },
      "outputs": [],
      "source": [
        "!pip install pandas numpy scikit-learn openpyxl nltk google-api-python-client Sastrawi"
      ]
    },
    {
      "cell_type": "markdown",
      "metadata": {
        "id": "IwL36FB9QaLC"
      },
      "source": [
        "**2. IMPORT REQUIREMENT**"
      ]
    },
    {
      "cell_type": "code",
      "source": [
        "import pandas as pd\n",
        "import numpy as np\n",
        "import re\n",
        "import nltk\n",
        "import pickle\n",
        "import os\n",
        "import time\n",
        "from datetime import datetime\n",
        "from nltk.tokenize import word_tokenize\n",
        "from nltk.corpus import stopwords\n",
        "from Sastrawi.Stemmer.StemmerFactory import StemmerFactory\n",
        "from sklearn.model_selection import train_test_split\n",
        "from sklearn.feature_extraction.text import TfidfTransformer, CountVectorizer\n",
        "from sklearn.preprocessing import LabelEncoder\n",
        "from sklearn.neighbors import KNeighborsClassifier\n",
        "from sklearn.metrics import accuracy_score, classification_report\n",
        "from google.colab import files, drive\n",
        "from googleapiclient.discovery import build"
      ],
      "metadata": {
        "id": "7WJsKzRVqNKD"
      },
      "execution_count": null,
      "outputs": []
    },
    {
      "cell_type": "markdown",
      "metadata": {
        "id": "Ivsr9_NQV2HE"
      },
      "source": [
        "**3. SPLIT DATA, MELATIH MODEL, MENAMPILKAN HASIL EVALUASI MODEL, MENYIMPAN MODEL**"
      ]
    },
    {
      "cell_type": "code",
      "execution_count": null,
      "metadata": {
        "id": "cwzcrq03WYoH"
      },
      "outputs": [],
      "source": [
        "# Split data\n",
        "X_train, X_test, y_train_sentiment, y_test_sentiment = train_test_split(\n",
        "    X_tfrf, df['sentiment_label'], test_size=0.3, random_state=42)\n",
        "\n",
        "X_train_func, X_test_func, y_train_function, y_test_function = train_test_split(\n",
        "    X_tfrf, df['function_label'], test_size=0.3, random_state=42)\n",
        "\n",
        "# Train KNN models\n",
        "knn_sentiment = KNeighborsClassifier(n_neighbors=3, metric='cosine')\n",
        "knn_sentiment.fit(X_train, y_train_sentiment)\n",
        "\n",
        "knn_function = KNeighborsClassifier(n_neighbors=3, metric='cosine')\n",
        "knn_function.fit(X_train_func, y_train_function)\n",
        "\n",
        "# Evaluation\n",
        "y_pred_sentiment = knn_sentiment.predict(X_test)\n",
        "y_pred_function = knn_function.predict(X_test_func)\n",
        "\n",
        "print(\"\\n🎯 HASIL EVALUASI MODEL SENTIMEN:\")\n",
        "# Get unique labels in y_test_sentiment and y_pred_sentiment\n",
        "unique_labels = np.unique(np.concatenate((y_test_sentiment, y_pred_sentiment)))\n",
        "\n",
        "# Filter target names to include only the present labels\n",
        "target_names = [sentiment_encoder.classes_[i] for i in unique_labels]\n",
        "\n",
        "# Print the classification report with the filtered target names\n",
        "print(classification_report(y_test_sentiment, y_pred_sentiment, target_names=target_names))\n",
        "\n",
        "print(\"\\n🎯 HASIL EVALUASI MODEL FUNGSI:\")\n",
        "print(classification_report(y_test_function, y_pred_function, target_names=function_encoder.classes_))\n",
        "\n",
        "# Save models\n",
        "pickle.dump(knn_sentiment, open(drive_path + \"knn_sentiment.pkl\", \"wb\"))\n",
        "pickle.dump(knn_function, open(drive_path + \"knn_function.pkl\", \"wb\"))\n",
        "pickle.dump(vectorizer, open(drive_path + \"vectorizer.pkl\", \"wb\"))\n",
        "pickle.dump(tf_transformer, open(drive_path + \"tf_transformer.pkl\", \"wb\"))\n",
        "pickle.dump(sentiment_encoder, open(drive_path + \"sentiment_encoder.pkl\", \"wb\"))\n",
        "pickle.dump(function_encoder, open(drive_path + \"function_encoder.pkl\", \"wb\"))\n",
        "\n",
        "print(f\"\\n✅ Model berhasil disimpan di Google Drive: {drive_path}\")"
      ]
    }
  ]
}
